{
 "cells": [
  {
   "cell_type": "code",
   "execution_count": 1,
   "metadata": {},
   "outputs": [],
   "source": [
    "#Importing libraries"
   ]
  },
  {
   "cell_type": "code",
   "execution_count": 54,
   "metadata": {},
   "outputs": [],
   "source": [
    "import pandas as pd \n",
    "import numpy as np\n",
    "import matplotlib.pyplot as plt\n",
    "import seaborn as sns\n",
    "%matplotlib inline\n",
    "from apyori import apriori\n",
    "import csv"
   ]
  },
  {
   "cell_type": "code",
   "execution_count": 3,
   "metadata": {},
   "outputs": [],
   "source": [
    "# Reading data"
   ]
  },
  {
   "cell_type": "code",
   "execution_count": 4,
   "metadata": {},
   "outputs": [],
   "source": [
    "cafe = pd.read_csv('cafe.csv', encoding='latin-1')"
   ]
  },
  {
   "cell_type": "code",
   "execution_count": 5,
   "metadata": {},
   "outputs": [],
   "source": [
    "# Understanding data"
   ]
  },
  {
   "cell_type": "code",
   "execution_count": 6,
   "metadata": {},
   "outputs": [
    {
     "data": {
      "text/html": [
       "<div>\n",
       "<style scoped>\n",
       "    .dataframe tbody tr th:only-of-type {\n",
       "        vertical-align: middle;\n",
       "    }\n",
       "\n",
       "    .dataframe tbody tr th {\n",
       "        vertical-align: top;\n",
       "    }\n",
       "\n",
       "    .dataframe thead th {\n",
       "        text-align: right;\n",
       "    }\n",
       "</style>\n",
       "<table border=\"1\" class=\"dataframe\">\n",
       "  <thead>\n",
       "    <tr style=\"text-align: right;\">\n",
       "      <th></th>\n",
       "      <th>Date</th>\n",
       "      <th>Bill_Number</th>\n",
       "      <th>Item_Description</th>\n",
       "      <th>Time</th>\n",
       "      <th>Quantity</th>\n",
       "      <th>Rate</th>\n",
       "      <th>Tax</th>\n",
       "      <th>Discount</th>\n",
       "      <th>Total</th>\n",
       "      <th>Category</th>\n",
       "    </tr>\n",
       "  </thead>\n",
       "  <tbody>\n",
       "    <tr>\n",
       "      <th>0</th>\n",
       "      <td>1-Apr-10</td>\n",
       "      <td>G0470115</td>\n",
       "      <td>QUA  MINERAL WATER(1000ML)</td>\n",
       "      <td>1:15:11 PM</td>\n",
       "      <td>1</td>\n",
       "      <td>50.0</td>\n",
       "      <td>11.88</td>\n",
       "      <td>0.0</td>\n",
       "      <td>61.88</td>\n",
       "      <td>BEVERAGE</td>\n",
       "    </tr>\n",
       "    <tr>\n",
       "      <th>1</th>\n",
       "      <td>1-Apr-10</td>\n",
       "      <td>G0470115</td>\n",
       "      <td>MONSOON MALABAR (AULAIT)</td>\n",
       "      <td>1:15:11 PM</td>\n",
       "      <td>1</td>\n",
       "      <td>100.0</td>\n",
       "      <td>23.75</td>\n",
       "      <td>0.0</td>\n",
       "      <td>123.75</td>\n",
       "      <td>BEVERAGE</td>\n",
       "    </tr>\n",
       "    <tr>\n",
       "      <th>2</th>\n",
       "      <td>1-Apr-10</td>\n",
       "      <td>G0470116</td>\n",
       "      <td>MASALA CHAI CUTTING</td>\n",
       "      <td>1:17:35 PM</td>\n",
       "      <td>1</td>\n",
       "      <td>40.0</td>\n",
       "      <td>9.50</td>\n",
       "      <td>0.0</td>\n",
       "      <td>49.50</td>\n",
       "      <td>BEVERAGE</td>\n",
       "    </tr>\n",
       "    <tr>\n",
       "      <th>3</th>\n",
       "      <td>1-Apr-10</td>\n",
       "      <td>G0470117</td>\n",
       "      <td>QUA  MINERAL WATER(1000ML)</td>\n",
       "      <td>1:19:55 PM</td>\n",
       "      <td>1</td>\n",
       "      <td>50.0</td>\n",
       "      <td>11.88</td>\n",
       "      <td>0.0</td>\n",
       "      <td>61.88</td>\n",
       "      <td>BEVERAGE</td>\n",
       "    </tr>\n",
       "    <tr>\n",
       "      <th>4</th>\n",
       "      <td>1-Apr-10</td>\n",
       "      <td>G0470283</td>\n",
       "      <td>MOROCCAN MINT TEA</td>\n",
       "      <td>1:20:18 AM</td>\n",
       "      <td>1</td>\n",
       "      <td>45.0</td>\n",
       "      <td>10.69</td>\n",
       "      <td>0.0</td>\n",
       "      <td>55.69</td>\n",
       "      <td>BEVERAGE</td>\n",
       "    </tr>\n",
       "  </tbody>\n",
       "</table>\n",
       "</div>"
      ],
      "text/plain": [
       "       Date Bill_Number                Item_Description        Time  Quantity  \\\n",
       "0  1-Apr-10    G0470115  QUA  MINERAL WATER(1000ML)      1:15:11 PM         1   \n",
       "1  1-Apr-10    G0470115  MONSOON MALABAR (AULAIT)        1:15:11 PM         1   \n",
       "2  1-Apr-10    G0470116  MASALA CHAI CUTTING             1:17:35 PM         1   \n",
       "3  1-Apr-10    G0470117  QUA  MINERAL WATER(1000ML)      1:19:55 PM         1   \n",
       "4  1-Apr-10    G0470283  MOROCCAN MINT TEA               1:20:18 AM         1   \n",
       "\n",
       "    Rate    Tax  Discount   Total  Category  \n",
       "0   50.0  11.88       0.0   61.88  BEVERAGE  \n",
       "1  100.0  23.75       0.0  123.75  BEVERAGE  \n",
       "2   40.0   9.50       0.0   49.50  BEVERAGE  \n",
       "3   50.0  11.88       0.0   61.88  BEVERAGE  \n",
       "4   45.0  10.69       0.0   55.69  BEVERAGE  "
      ]
     },
     "execution_count": 6,
     "metadata": {},
     "output_type": "execute_result"
    }
   ],
   "source": [
    "cafe.head()"
   ]
  },
  {
   "cell_type": "code",
   "execution_count": 7,
   "metadata": {},
   "outputs": [
    {
     "data": {
      "text/plain": [
       "(145830, 10)"
      ]
     },
     "execution_count": 7,
     "metadata": {},
     "output_type": "execute_result"
    }
   ],
   "source": [
    "cafe.shape"
   ]
  },
  {
   "cell_type": "code",
   "execution_count": 8,
   "metadata": {},
   "outputs": [
    {
     "name": "stdout",
     "output_type": "stream",
     "text": [
      "<class 'pandas.core.frame.DataFrame'>\n",
      "RangeIndex: 145830 entries, 0 to 145829\n",
      "Data columns (total 10 columns):\n",
      " #   Column            Non-Null Count   Dtype  \n",
      "---  ------            --------------   -----  \n",
      " 0   Date              145830 non-null  object \n",
      " 1   Bill_Number       145830 non-null  object \n",
      " 2   Item_Description  145830 non-null  object \n",
      " 3   Time              145830 non-null  object \n",
      " 4   Quantity          145830 non-null  int64  \n",
      " 5   Rate              145830 non-null  float64\n",
      " 6   Tax               145830 non-null  float64\n",
      " 7   Discount          145830 non-null  float64\n",
      " 8   Total             145830 non-null  float64\n",
      " 9   Category          145830 non-null  object \n",
      "dtypes: float64(4), int64(1), object(5)\n",
      "memory usage: 11.1+ MB\n"
     ]
    }
   ],
   "source": [
    "cafe.info()"
   ]
  },
  {
   "cell_type": "code",
   "execution_count": 9,
   "metadata": {},
   "outputs": [],
   "source": [
    "# Checking for missing values"
   ]
  },
  {
   "cell_type": "code",
   "execution_count": 10,
   "metadata": {
    "scrolled": true
   },
   "outputs": [
    {
     "data": {
      "text/plain": [
       "Date                0\n",
       "Bill_Number         0\n",
       "Item_Description    0\n",
       "Time                0\n",
       "Quantity            0\n",
       "Rate                0\n",
       "Tax                 0\n",
       "Discount            0\n",
       "Total               0\n",
       "Category            0\n",
       "dtype: int64"
      ]
     },
     "execution_count": 10,
     "metadata": {},
     "output_type": "execute_result"
    }
   ],
   "source": [
    "cafe.isnull().sum()"
   ]
  },
  {
   "cell_type": "code",
   "execution_count": 11,
   "metadata": {},
   "outputs": [
    {
     "data": {
      "text/html": [
       "<div>\n",
       "<style scoped>\n",
       "    .dataframe tbody tr th:only-of-type {\n",
       "        vertical-align: middle;\n",
       "    }\n",
       "\n",
       "    .dataframe tbody tr th {\n",
       "        vertical-align: top;\n",
       "    }\n",
       "\n",
       "    .dataframe thead th {\n",
       "        text-align: right;\n",
       "    }\n",
       "</style>\n",
       "<table border=\"1\" class=\"dataframe\">\n",
       "  <thead>\n",
       "    <tr style=\"text-align: right;\">\n",
       "      <th></th>\n",
       "      <th>Quantity</th>\n",
       "      <th>Rate</th>\n",
       "      <th>Tax</th>\n",
       "      <th>Discount</th>\n",
       "      <th>Total</th>\n",
       "    </tr>\n",
       "  </thead>\n",
       "  <tbody>\n",
       "    <tr>\n",
       "      <th>count</th>\n",
       "      <td>145830.000000</td>\n",
       "      <td>145830.000000</td>\n",
       "      <td>145830.000000</td>\n",
       "      <td>145830.000000</td>\n",
       "      <td>145830.000000</td>\n",
       "    </tr>\n",
       "    <tr>\n",
       "      <th>mean</th>\n",
       "      <td>1.121299</td>\n",
       "      <td>161.782259</td>\n",
       "      <td>48.929061</td>\n",
       "      <td>0.095079</td>\n",
       "      <td>224.959852</td>\n",
       "    </tr>\n",
       "    <tr>\n",
       "      <th>std</th>\n",
       "      <td>0.477237</td>\n",
       "      <td>102.244631</td>\n",
       "      <td>40.272851</td>\n",
       "      <td>3.720735</td>\n",
       "      <td>164.960776</td>\n",
       "    </tr>\n",
       "    <tr>\n",
       "      <th>min</th>\n",
       "      <td>1.000000</td>\n",
       "      <td>0.010000</td>\n",
       "      <td>0.000000</td>\n",
       "      <td>0.000000</td>\n",
       "      <td>0.010000</td>\n",
       "    </tr>\n",
       "    <tr>\n",
       "      <th>25%</th>\n",
       "      <td>1.000000</td>\n",
       "      <td>95.000000</td>\n",
       "      <td>22.560000</td>\n",
       "      <td>0.000000</td>\n",
       "      <td>117.560000</td>\n",
       "    </tr>\n",
       "    <tr>\n",
       "      <th>50%</th>\n",
       "      <td>1.000000</td>\n",
       "      <td>125.000000</td>\n",
       "      <td>32.060000</td>\n",
       "      <td>0.000000</td>\n",
       "      <td>167.060000</td>\n",
       "    </tr>\n",
       "    <tr>\n",
       "      <th>75%</th>\n",
       "      <td>1.000000</td>\n",
       "      <td>225.000000</td>\n",
       "      <td>72.000000</td>\n",
       "      <td>0.000000</td>\n",
       "      <td>315.000000</td>\n",
       "    </tr>\n",
       "    <tr>\n",
       "      <th>max</th>\n",
       "      <td>30.000000</td>\n",
       "      <td>2100.000000</td>\n",
       "      <td>2731.250000</td>\n",
       "      <td>825.000000</td>\n",
       "      <td>14231.250000</td>\n",
       "    </tr>\n",
       "  </tbody>\n",
       "</table>\n",
       "</div>"
      ],
      "text/plain": [
       "            Quantity           Rate            Tax       Discount  \\\n",
       "count  145830.000000  145830.000000  145830.000000  145830.000000   \n",
       "mean        1.121299     161.782259      48.929061       0.095079   \n",
       "std         0.477237     102.244631      40.272851       3.720735   \n",
       "min         1.000000       0.010000       0.000000       0.000000   \n",
       "25%         1.000000      95.000000      22.560000       0.000000   \n",
       "50%         1.000000     125.000000      32.060000       0.000000   \n",
       "75%         1.000000     225.000000      72.000000       0.000000   \n",
       "max        30.000000    2100.000000    2731.250000     825.000000   \n",
       "\n",
       "               Total  \n",
       "count  145830.000000  \n",
       "mean      224.959852  \n",
       "std       164.960776  \n",
       "min         0.010000  \n",
       "25%       117.560000  \n",
       "50%       167.060000  \n",
       "75%       315.000000  \n",
       "max     14231.250000  "
      ]
     },
     "execution_count": 11,
     "metadata": {},
     "output_type": "execute_result"
    }
   ],
   "source": [
    "cafe.describe()"
   ]
  },
  {
   "cell_type": "code",
   "execution_count": 12,
   "metadata": {},
   "outputs": [],
   "source": [
    "# Cafe sales by category"
   ]
  },
  {
   "cell_type": "code",
   "execution_count": 13,
   "metadata": {},
   "outputs": [
    {
     "data": {
      "text/plain": [
       "<matplotlib.axes._subplots.AxesSubplot at 0x230a0d4ed30>"
      ]
     },
     "execution_count": 13,
     "metadata": {},
     "output_type": "execute_result"
    },
    {
     "data": {
      "image/png": "[encoded data removed]",
      "text/plain": [
       "<Figure size 432x288 with 1 Axes>"
      ]
     },
     "metadata": {
      "needs_background": "light"
     },
     "output_type": "display_data"
    }
   ],
   "source": [
    "cafe.groupby(['Category'])['Total'].sum().nlargest(15).plot(kind='bar', title = 'Sales by Category', grid = False)"
   ]
  },
  {
   "cell_type": "code",
   "execution_count": 14,
   "metadata": {},
   "outputs": [],
   "source": [
    "# Tobacco having higher sales, followed by Food, Beverage & Liquor."
   ]
  },
  {
   "cell_type": "code",
   "execution_count": 15,
   "metadata": {},
   "outputs": [
    {
     "data": {
      "text/plain": [
       "<matplotlib.axes._subplots.AxesSubplot at 0x230a13b27c0>"
      ]
     },
     "execution_count": 15,
     "metadata": {},
     "output_type": "execute_result"
    },
    {
     "data": {
      "image/png": "[encoded data removed]",
      "text/plain": [
       "<Figure size 432x288 with 1 Axes>"
      ]
     },
     "metadata": {
      "needs_background": "light"
     },
     "output_type": "display_data"
    }
   ],
   "source": [
    "# Quantity sold by category\n",
    "\n",
    "cafe.groupby(['Category'])['Quantity'].sum().nlargest(15).plot(kind='bar',title = 'Quantities sold by Category', grid = False)"
   ]
  },
  {
   "cell_type": "code",
   "execution_count": 16,
   "metadata": {},
   "outputs": [],
   "source": [
    "# Most bought items by category are Food, Beverage, Tobacco and Liqour"
   ]
  },
  {
   "cell_type": "code",
   "execution_count": 17,
   "metadata": {},
   "outputs": [
    {
     "data": {
      "text/plain": [
       "<matplotlib.axes._subplots.AxesSubplot at 0x230a14264f0>"
      ]
     },
     "execution_count": 17,
     "metadata": {},
     "output_type": "execute_result"
    },
    {
     "data": {
      "image/png": "[encoded data removed]",
      "text/plain": [
       "<Figure size 432x288 with 1 Axes>"
      ]
     },
     "metadata": {
      "needs_background": "light"
     },
     "output_type": "display_data"
    }
   ],
   "source": [
    "# Discount by category\n",
    "\n",
    "cafe.groupby(['Category'])['Discount'].mean().nlargest(15).plot(kind='bar',title = 'Average Discount by Category', grid = False)"
   ]
  },
  {
   "cell_type": "code",
   "execution_count": 18,
   "metadata": {},
   "outputs": [],
   "source": [
    "# Merchandise category are the most discounted, followed by liquor and tobacco combo, wines and liquor."
   ]
  },
  {
   "cell_type": "code",
   "execution_count": 19,
   "metadata": {},
   "outputs": [
    {
     "data": {
      "text/plain": [
       "<matplotlib.axes._subplots.AxesSubplot at 0x230a14989d0>"
      ]
     },
     "execution_count": 19,
     "metadata": {},
     "output_type": "execute_result"
    },
    {
     "data": {
      "image/png": "[encoded data removed]",
      "text/plain": [
       "<Figure size 432x288 with 1 Axes>"
      ]
     },
     "metadata": {
      "needs_background": "light"
     },
     "output_type": "display_data"
    }
   ],
   "source": [
    "# Category vs Rate\n",
    "\n",
    "cafe.groupby(['Category'])['Rate'].mean().nlargest(15).plot(kind='bar',title = 'Average MRP by Category', grid = False)"
   ]
  },
  {
   "cell_type": "code",
   "execution_count": 20,
   "metadata": {},
   "outputs": [],
   "source": [
    "# On average liquor has the hihgest MRP, followed by liquor and tobacco, tobacco and wines."
   ]
  },
  {
   "cell_type": "code",
   "execution_count": 21,
   "metadata": {},
   "outputs": [
    {
     "data": {
      "text/plain": [
       "<matplotlib.axes._subplots.AxesSubplot at 0x230a15063a0>"
      ]
     },
     "execution_count": 21,
     "metadata": {},
     "output_type": "execute_result"
    },
    {
     "data": {
      "image/png": "[encoded data removed]",
      "text/plain": [
       "<Figure size 432x288 with 1 Axes>"
      ]
     },
     "metadata": {
      "needs_background": "light"
     },
     "output_type": "display_data"
    }
   ],
   "source": [
    "# Category vs Tax\n",
    "\n",
    "cafe.groupby(['Category'])['Tax'].mean().nlargest(15).plot(kind='bar',title = 'Average Tax by Category', grid = False)"
   ]
  },
  {
   "cell_type": "code",
   "execution_count": 22,
   "metadata": {},
   "outputs": [],
   "source": [
    "# Liquor, liquor & tobacco combo, tobacco and wines have higher taxes."
   ]
  },
  {
   "cell_type": "code",
   "execution_count": 23,
   "metadata": {},
   "outputs": [],
   "source": [
    "# Product wise analysis"
   ]
  },
  {
   "cell_type": "code",
   "execution_count": 24,
   "metadata": {},
   "outputs": [
    {
     "data": {
      "text/plain": [
       "<matplotlib.axes._subplots.AxesSubplot at 0x230a156f0a0>"
      ]
     },
     "execution_count": 24,
     "metadata": {},
     "output_type": "execute_result"
    },
    {
     "data": {
      "image/png": "[encoded data removed]",
      "text/plain": [
       "<Figure size 432x288 with 1 Axes>"
      ]
     },
     "metadata": {
      "needs_background": "light"
     },
     "output_type": "display_data"
    }
   ],
   "source": [
    "# Top quantity sold items\n",
    "\n",
    "cafe.groupby(['Item_Description'])['Quantity'].sum().nlargest(15).plot(kind='bar', title = 'Top 15 products with highest sold quantities', grid = False)"
   ]
  },
  {
   "cell_type": "code",
   "execution_count": 25,
   "metadata": {},
   "outputs": [
    {
     "data": {
      "text/plain": [
       "<matplotlib.axes._subplots.AxesSubplot at 0x230a15f3580>"
      ]
     },
     "execution_count": 25,
     "metadata": {},
     "output_type": "execute_result"
    },
    {
     "data": {
      "image/png": "[encoded data removed]",
      "text/plain": [
       "<Figure size 432x288 with 1 Axes>"
      ]
     },
     "metadata": {
      "needs_background": "light"
     },
     "output_type": "display_data"
    }
   ],
   "source": [
    "# Top 20 items with highest sales\n",
    "\n",
    "cafe.groupby(['Item_Description'])['Total'].sum().nlargest(15).plot(kind='bar',title = 'Top 15 products with highest sales', grid = False)"
   ]
  },
  {
   "cell_type": "code",
   "execution_count": 26,
   "metadata": {},
   "outputs": [],
   "source": [
    "# Items with highest MRP"
   ]
  },
  {
   "cell_type": "code",
   "execution_count": 27,
   "metadata": {},
   "outputs": [
    {
     "data": {
      "text/plain": [
       "<matplotlib.axes._subplots.AxesSubplot at 0x230a165c1f0>"
      ]
     },
     "execution_count": 27,
     "metadata": {},
     "output_type": "execute_result"
    },
    {
     "data": {
      "image/png": "[encoded data removed]",
      "text/plain": [
       "<Figure size 432x288 with 1 Axes>"
      ]
     },
     "metadata": {
      "needs_background": "light"
     },
     "output_type": "display_data"
    }
   ],
   "source": [
    "# Top 15 items with highest sales\n",
    "\n",
    "cafe.groupby(['Item_Description'])['Rate'].sum().nlargest(15).plot(kind='bar',title = 'Top 15 products with highest MRP', grid = False)"
   ]
  },
  {
   "cell_type": "code",
   "execution_count": 28,
   "metadata": {},
   "outputs": [
    {
     "data": {
      "text/plain": [
       "<matplotlib.axes._subplots.AxesSubplot at 0x230a1705880>"
      ]
     },
     "execution_count": 28,
     "metadata": {},
     "output_type": "execute_result"
    },
    {
     "data": {
      "image/png": "[encoded data removed]",
      "text/plain": [
       "<Figure size 432x288 with 1 Axes>"
      ]
     },
     "metadata": {
      "needs_background": "light"
     },
     "output_type": "display_data"
    }
   ],
   "source": [
    "# Top 15 items with highest Discount\n",
    "\n",
    "cafe.groupby(['Item_Description'])['Discount'].sum().nlargest(15).plot(kind='bar',title = 'Top 15 products with highest discount', grid = False)"
   ]
  },
  {
   "cell_type": "code",
   "execution_count": 29,
   "metadata": {},
   "outputs": [],
   "source": [
    "### Market Basket Analysis"
   ]
  },
  {
   "cell_type": "code",
   "execution_count": 30,
   "metadata": {},
   "outputs": [
    {
     "data": {
      "text/html": [
       "<div>\n",
       "<style scoped>\n",
       "    .dataframe tbody tr th:only-of-type {\n",
       "        vertical-align: middle;\n",
       "    }\n",
       "\n",
       "    .dataframe tbody tr th {\n",
       "        vertical-align: top;\n",
       "    }\n",
       "\n",
       "    .dataframe thead th {\n",
       "        text-align: right;\n",
       "    }\n",
       "</style>\n",
       "<table border=\"1\" class=\"dataframe\">\n",
       "  <thead>\n",
       "    <tr style=\"text-align: right;\">\n",
       "      <th></th>\n",
       "      <th>Date</th>\n",
       "      <th>Bill_Number</th>\n",
       "      <th>Item_Description</th>\n",
       "      <th>Time</th>\n",
       "      <th>Quantity</th>\n",
       "      <th>Rate</th>\n",
       "      <th>Tax</th>\n",
       "      <th>Discount</th>\n",
       "      <th>Total</th>\n",
       "      <th>Category</th>\n",
       "    </tr>\n",
       "  </thead>\n",
       "  <tbody>\n",
       "    <tr>\n",
       "      <th>0</th>\n",
       "      <td>1-Apr-10</td>\n",
       "      <td>G0470115</td>\n",
       "      <td>QUA  MINERAL WATER(1000ML)</td>\n",
       "      <td>1:15:11 PM</td>\n",
       "      <td>1</td>\n",
       "      <td>50.0</td>\n",
       "      <td>11.88</td>\n",
       "      <td>0.0</td>\n",
       "      <td>61.88</td>\n",
       "      <td>BEVERAGE</td>\n",
       "    </tr>\n",
       "    <tr>\n",
       "      <th>1</th>\n",
       "      <td>1-Apr-10</td>\n",
       "      <td>G0470115</td>\n",
       "      <td>MONSOON MALABAR (AULAIT)</td>\n",
       "      <td>1:15:11 PM</td>\n",
       "      <td>1</td>\n",
       "      <td>100.0</td>\n",
       "      <td>23.75</td>\n",
       "      <td>0.0</td>\n",
       "      <td>123.75</td>\n",
       "      <td>BEVERAGE</td>\n",
       "    </tr>\n",
       "    <tr>\n",
       "      <th>2</th>\n",
       "      <td>1-Apr-10</td>\n",
       "      <td>G0470116</td>\n",
       "      <td>MASALA CHAI CUTTING</td>\n",
       "      <td>1:17:35 PM</td>\n",
       "      <td>1</td>\n",
       "      <td>40.0</td>\n",
       "      <td>9.50</td>\n",
       "      <td>0.0</td>\n",
       "      <td>49.50</td>\n",
       "      <td>BEVERAGE</td>\n",
       "    </tr>\n",
       "    <tr>\n",
       "      <th>3</th>\n",
       "      <td>1-Apr-10</td>\n",
       "      <td>G0470117</td>\n",
       "      <td>QUA  MINERAL WATER(1000ML)</td>\n",
       "      <td>1:19:55 PM</td>\n",
       "      <td>1</td>\n",
       "      <td>50.0</td>\n",
       "      <td>11.88</td>\n",
       "      <td>0.0</td>\n",
       "      <td>61.88</td>\n",
       "      <td>BEVERAGE</td>\n",
       "    </tr>\n",
       "    <tr>\n",
       "      <th>4</th>\n",
       "      <td>1-Apr-10</td>\n",
       "      <td>G0470283</td>\n",
       "      <td>MOROCCAN MINT TEA</td>\n",
       "      <td>1:20:18 AM</td>\n",
       "      <td>1</td>\n",
       "      <td>45.0</td>\n",
       "      <td>10.69</td>\n",
       "      <td>0.0</td>\n",
       "      <td>55.69</td>\n",
       "      <td>BEVERAGE</td>\n",
       "    </tr>\n",
       "  </tbody>\n",
       "</table>\n",
       "</div>"
      ],
      "text/plain": [
       "       Date Bill_Number            Item_Description        Time  Quantity  \\\n",
       "0  1-Apr-10    G0470115  QUA  MINERAL WATER(1000ML)  1:15:11 PM         1   \n",
       "1  1-Apr-10    G0470115    MONSOON MALABAR (AULAIT)  1:15:11 PM         1   \n",
       "2  1-Apr-10    G0470116         MASALA CHAI CUTTING  1:17:35 PM         1   \n",
       "3  1-Apr-10    G0470117  QUA  MINERAL WATER(1000ML)  1:19:55 PM         1   \n",
       "4  1-Apr-10    G0470283           MOROCCAN MINT TEA  1:20:18 AM         1   \n",
       "\n",
       "    Rate    Tax  Discount   Total  Category  \n",
       "0   50.0  11.88       0.0   61.88  BEVERAGE  \n",
       "1  100.0  23.75       0.0  123.75  BEVERAGE  \n",
       "2   40.0   9.50       0.0   49.50  BEVERAGE  \n",
       "3   50.0  11.88       0.0   61.88  BEVERAGE  \n",
       "4   45.0  10.69       0.0   55.69  BEVERAGE  "
      ]
     },
     "execution_count": 30,
     "metadata": {},
     "output_type": "execute_result"
    }
   ],
   "source": [
    "# Cleaning data\n",
    "\n",
    "#Cleaning the data\n",
    "cafe['Item_Description'] = cafe['Item_Description'].str.strip() \n",
    "cafe.dropna(axis=0, subset=['Bill_Number'], inplace=True) \n",
    "cafe['Bill_Number'] = cafe['Bill_Number'].astype('str')\n",
    "cafe = cafe[~cafe['Bill_Number'].str.contains('C')] \n",
    "cafe.head()"
   ]
  },
  {
   "cell_type": "code",
   "execution_count": 31,
   "metadata": {},
   "outputs": [
    {
     "data": {
      "text/plain": [
       "(145830, 10)"
      ]
     },
     "execution_count": 31,
     "metadata": {},
     "output_type": "execute_result"
    }
   ],
   "source": [
    "cafe.shape"
   ]
  },
  {
   "cell_type": "code",
   "execution_count": 32,
   "metadata": {},
   "outputs": [],
   "source": [
    "# Date preparation for market basket analysis\n",
    "\n",
    "basket = (cafe.groupby(['Bill_Number', 'Item_Description'])['Quantity']\n",
    "          .sum().unstack().reset_index().fillna(0)\n",
    "          .set_index('Bill_Number'))"
   ]
  },
  {
   "cell_type": "code",
   "execution_count": 33,
   "metadata": {},
   "outputs": [
    {
     "data": {
      "text/html": [
       "<div>\n",
       "<style scoped>\n",
       "    .dataframe tbody tr th:only-of-type {\n",
       "        vertical-align: middle;\n",
       "    }\n",
       "\n",
       "    .dataframe tbody tr th {\n",
       "        vertical-align: top;\n",
       "    }\n",
       "\n",
       "    .dataframe thead th {\n",
       "        text-align: right;\n",
       "    }\n",
       "</style>\n",
       "<table border=\"1\" class=\"dataframe\">\n",
       "  <thead>\n",
       "    <tr style=\"text-align: right;\">\n",
       "      <th>Item_Description</th>\n",
       "      <th>1 AXE TWIST</th>\n",
       "      <th>1+1 BTL4 SEASON WHITE</th>\n",
       "      <th>1+1 GLS 4SEASON RED</th>\n",
       "      <th>1+1 GLS 4SEASONS WHITE</th>\n",
       "      <th>1+1 KF 1 LITER</th>\n",
       "      <th>1+1 KF 1/2 LITER</th>\n",
       "      <th>1+1 KF 2 LITER</th>\n",
       "      <th>1+1 VLN CAB SAUV (BTL)</th>\n",
       "      <th>1+1 VLN CAB SAUV (GLS)</th>\n",
       "      <th>1+1 VLN CAB SAUV CLASIQ (BTL)</th>\n",
       "      <th>...</th>\n",
       "      <th>WHITE WINE SHEESHA</th>\n",
       "      <th>WILD MUSHROOM LINGUINI</th>\n",
       "      <th>YEMENI GREAT LAKES (AULAIT)</th>\n",
       "      <th>YEMENI GREAT LAKES (REG)</th>\n",
       "      <th>YIN N YANG FONDUE</th>\n",
       "      <th>ZEN ROCK SQUARE VASE</th>\n",
       "      <th>ZERO SIZE SHOT GLS</th>\n",
       "      <th>ZINZI RED (GLS)</th>\n",
       "      <th>ZINZI WHITE  (GLS)</th>\n",
       "      <th>ZINZI WHITE (BTL)</th>\n",
       "    </tr>\n",
       "    <tr>\n",
       "      <th>Bill_Number</th>\n",
       "      <th></th>\n",
       "      <th></th>\n",
       "      <th></th>\n",
       "      <th></th>\n",
       "      <th></th>\n",
       "      <th></th>\n",
       "      <th></th>\n",
       "      <th></th>\n",
       "      <th></th>\n",
       "      <th></th>\n",
       "      <th></th>\n",
       "      <th></th>\n",
       "      <th></th>\n",
       "      <th></th>\n",
       "      <th></th>\n",
       "      <th></th>\n",
       "      <th></th>\n",
       "      <th></th>\n",
       "      <th></th>\n",
       "      <th></th>\n",
       "      <th></th>\n",
       "    </tr>\n",
       "  </thead>\n",
       "  <tbody>\n",
       "    <tr>\n",
       "      <th>G0470109</th>\n",
       "      <td>0.0</td>\n",
       "      <td>0.0</td>\n",
       "      <td>0.0</td>\n",
       "      <td>0.0</td>\n",
       "      <td>0.0</td>\n",
       "      <td>0.0</td>\n",
       "      <td>0.0</td>\n",
       "      <td>0.0</td>\n",
       "      <td>0.0</td>\n",
       "      <td>0.0</td>\n",
       "      <td>...</td>\n",
       "      <td>0.0</td>\n",
       "      <td>0.0</td>\n",
       "      <td>0.0</td>\n",
       "      <td>0.0</td>\n",
       "      <td>0.0</td>\n",
       "      <td>0.0</td>\n",
       "      <td>0.0</td>\n",
       "      <td>0.0</td>\n",
       "      <td>0.0</td>\n",
       "      <td>0.0</td>\n",
       "    </tr>\n",
       "    <tr>\n",
       "      <th>G0470110</th>\n",
       "      <td>0.0</td>\n",
       "      <td>0.0</td>\n",
       "      <td>0.0</td>\n",
       "      <td>0.0</td>\n",
       "      <td>0.0</td>\n",
       "      <td>0.0</td>\n",
       "      <td>0.0</td>\n",
       "      <td>0.0</td>\n",
       "      <td>0.0</td>\n",
       "      <td>0.0</td>\n",
       "      <td>...</td>\n",
       "      <td>0.0</td>\n",
       "      <td>0.0</td>\n",
       "      <td>0.0</td>\n",
       "      <td>0.0</td>\n",
       "      <td>0.0</td>\n",
       "      <td>0.0</td>\n",
       "      <td>0.0</td>\n",
       "      <td>0.0</td>\n",
       "      <td>0.0</td>\n",
       "      <td>0.0</td>\n",
       "    </tr>\n",
       "    <tr>\n",
       "      <th>G0470111</th>\n",
       "      <td>0.0</td>\n",
       "      <td>0.0</td>\n",
       "      <td>0.0</td>\n",
       "      <td>0.0</td>\n",
       "      <td>0.0</td>\n",
       "      <td>0.0</td>\n",
       "      <td>0.0</td>\n",
       "      <td>0.0</td>\n",
       "      <td>0.0</td>\n",
       "      <td>0.0</td>\n",
       "      <td>...</td>\n",
       "      <td>0.0</td>\n",
       "      <td>0.0</td>\n",
       "      <td>0.0</td>\n",
       "      <td>0.0</td>\n",
       "      <td>0.0</td>\n",
       "      <td>0.0</td>\n",
       "      <td>0.0</td>\n",
       "      <td>0.0</td>\n",
       "      <td>0.0</td>\n",
       "      <td>0.0</td>\n",
       "    </tr>\n",
       "    <tr>\n",
       "      <th>G0470112</th>\n",
       "      <td>0.0</td>\n",
       "      <td>0.0</td>\n",
       "      <td>0.0</td>\n",
       "      <td>0.0</td>\n",
       "      <td>0.0</td>\n",
       "      <td>0.0</td>\n",
       "      <td>0.0</td>\n",
       "      <td>0.0</td>\n",
       "      <td>0.0</td>\n",
       "      <td>0.0</td>\n",
       "      <td>...</td>\n",
       "      <td>0.0</td>\n",
       "      <td>0.0</td>\n",
       "      <td>0.0</td>\n",
       "      <td>0.0</td>\n",
       "      <td>0.0</td>\n",
       "      <td>0.0</td>\n",
       "      <td>0.0</td>\n",
       "      <td>0.0</td>\n",
       "      <td>0.0</td>\n",
       "      <td>0.0</td>\n",
       "    </tr>\n",
       "    <tr>\n",
       "      <th>G0470113</th>\n",
       "      <td>0.0</td>\n",
       "      <td>0.0</td>\n",
       "      <td>0.0</td>\n",
       "      <td>0.0</td>\n",
       "      <td>0.0</td>\n",
       "      <td>0.0</td>\n",
       "      <td>0.0</td>\n",
       "      <td>0.0</td>\n",
       "      <td>0.0</td>\n",
       "      <td>0.0</td>\n",
       "      <td>...</td>\n",
       "      <td>0.0</td>\n",
       "      <td>0.0</td>\n",
       "      <td>0.0</td>\n",
       "      <td>0.0</td>\n",
       "      <td>0.0</td>\n",
       "      <td>0.0</td>\n",
       "      <td>0.0</td>\n",
       "      <td>0.0</td>\n",
       "      <td>0.0</td>\n",
       "      <td>0.0</td>\n",
       "    </tr>\n",
       "  </tbody>\n",
       "</table>\n",
       "<p>5 rows × 580 columns</p>\n",
       "</div>"
      ],
      "text/plain": [
       "Item_Description  1 AXE TWIST  1+1 BTL4 SEASON WHITE  1+1 GLS 4SEASON RED  \\\n",
       "Bill_Number                                                                 \n",
       "G0470109                  0.0                    0.0                  0.0   \n",
       "G0470110                  0.0                    0.0                  0.0   \n",
       "G0470111                  0.0                    0.0                  0.0   \n",
       "G0470112                  0.0                    0.0                  0.0   \n",
       "G0470113                  0.0                    0.0                  0.0   \n",
       "\n",
       "Item_Description  1+1 GLS 4SEASONS WHITE  1+1 KF 1 LITER  1+1 KF 1/2 LITER  \\\n",
       "Bill_Number                                                                  \n",
       "G0470109                             0.0             0.0               0.0   \n",
       "G0470110                             0.0             0.0               0.0   \n",
       "G0470111                             0.0             0.0               0.0   \n",
       "G0470112                             0.0             0.0               0.0   \n",
       "G0470113                             0.0             0.0               0.0   \n",
       "\n",
       "Item_Description  1+1 KF 2 LITER  1+1 VLN CAB SAUV (BTL)  \\\n",
       "Bill_Number                                                \n",
       "G0470109                     0.0                     0.0   \n",
       "G0470110                     0.0                     0.0   \n",
       "G0470111                     0.0                     0.0   \n",
       "G0470112                     0.0                     0.0   \n",
       "G0470113                     0.0                     0.0   \n",
       "\n",
       "Item_Description  1+1 VLN CAB SAUV (GLS)  1+1 VLN CAB SAUV CLASIQ (BTL)  ...  \\\n",
       "Bill_Number                                                              ...   \n",
       "G0470109                             0.0                            0.0  ...   \n",
       "G0470110                             0.0                            0.0  ...   \n",
       "G0470111                             0.0                            0.0  ...   \n",
       "G0470112                             0.0                            0.0  ...   \n",
       "G0470113                             0.0                            0.0  ...   \n",
       "\n",
       "Item_Description  WHITE WINE SHEESHA  WILD MUSHROOM LINGUINI  \\\n",
       "Bill_Number                                                    \n",
       "G0470109                         0.0                     0.0   \n",
       "G0470110                         0.0                     0.0   \n",
       "G0470111                         0.0                     0.0   \n",
       "G0470112                         0.0                     0.0   \n",
       "G0470113                         0.0                     0.0   \n",
       "\n",
       "Item_Description  YEMENI GREAT LAKES (AULAIT)  YEMENI GREAT LAKES (REG)  \\\n",
       "Bill_Number                                                               \n",
       "G0470109                                  0.0                       0.0   \n",
       "G0470110                                  0.0                       0.0   \n",
       "G0470111                                  0.0                       0.0   \n",
       "G0470112                                  0.0                       0.0   \n",
       "G0470113                                  0.0                       0.0   \n",
       "\n",
       "Item_Description  YIN N YANG FONDUE  ZEN ROCK SQUARE VASE  ZERO SIZE SHOT GLS  \\\n",
       "Bill_Number                                                                     \n",
       "G0470109                        0.0                   0.0                 0.0   \n",
       "G0470110                        0.0                   0.0                 0.0   \n",
       "G0470111                        0.0                   0.0                 0.0   \n",
       "G0470112                        0.0                   0.0                 0.0   \n",
       "G0470113                        0.0                   0.0                 0.0   \n",
       "\n",
       "Item_Description  ZINZI RED (GLS)  ZINZI WHITE  (GLS)  ZINZI WHITE (BTL)  \n",
       "Bill_Number                                                               \n",
       "G0470109                      0.0                 0.0                0.0  \n",
       "G0470110                      0.0                 0.0                0.0  \n",
       "G0470111                      0.0                 0.0                0.0  \n",
       "G0470112                      0.0                 0.0                0.0  \n",
       "G0470113                      0.0                 0.0                0.0  \n",
       "\n",
       "[5 rows x 580 columns]"
      ]
     },
     "execution_count": 33,
     "metadata": {},
     "output_type": "execute_result"
    }
   ],
   "source": [
    "basket.head()"
   ]
  },
  {
   "cell_type": "code",
   "execution_count": 34,
   "metadata": {},
   "outputs": [
    {
     "data": {
      "text/html": [
       "<div>\n",
       "<style scoped>\n",
       "    .dataframe tbody tr th:only-of-type {\n",
       "        vertical-align: middle;\n",
       "    }\n",
       "\n",
       "    .dataframe tbody tr th {\n",
       "        vertical-align: top;\n",
       "    }\n",
       "\n",
       "    .dataframe thead th {\n",
       "        text-align: right;\n",
       "    }\n",
       "</style>\n",
       "<table border=\"1\" class=\"dataframe\">\n",
       "  <thead>\n",
       "    <tr style=\"text-align: right;\">\n",
       "      <th>Item_Description</th>\n",
       "      <th>1 AXE TWIST</th>\n",
       "      <th>1+1 BTL4 SEASON WHITE</th>\n",
       "      <th>1+1 GLS 4SEASON RED</th>\n",
       "      <th>1+1 GLS 4SEASONS WHITE</th>\n",
       "      <th>1+1 KF 1 LITER</th>\n",
       "      <th>1+1 KF 1/2 LITER</th>\n",
       "      <th>1+1 KF 2 LITER</th>\n",
       "      <th>1+1 VLN CAB SAUV (BTL)</th>\n",
       "      <th>1+1 VLN CAB SAUV (GLS)</th>\n",
       "      <th>1+1 VLN CAB SAUV CLASIQ (BTL)</th>\n",
       "      <th>...</th>\n",
       "      <th>WHITE WINE SHEESHA</th>\n",
       "      <th>WILD MUSHROOM LINGUINI</th>\n",
       "      <th>YEMENI GREAT LAKES (AULAIT)</th>\n",
       "      <th>YEMENI GREAT LAKES (REG)</th>\n",
       "      <th>YIN N YANG FONDUE</th>\n",
       "      <th>ZEN ROCK SQUARE VASE</th>\n",
       "      <th>ZERO SIZE SHOT GLS</th>\n",
       "      <th>ZINZI RED (GLS)</th>\n",
       "      <th>ZINZI WHITE  (GLS)</th>\n",
       "      <th>ZINZI WHITE (BTL)</th>\n",
       "    </tr>\n",
       "    <tr>\n",
       "      <th>Bill_Number</th>\n",
       "      <th></th>\n",
       "      <th></th>\n",
       "      <th></th>\n",
       "      <th></th>\n",
       "      <th></th>\n",
       "      <th></th>\n",
       "      <th></th>\n",
       "      <th></th>\n",
       "      <th></th>\n",
       "      <th></th>\n",
       "      <th></th>\n",
       "      <th></th>\n",
       "      <th></th>\n",
       "      <th></th>\n",
       "      <th></th>\n",
       "      <th></th>\n",
       "      <th></th>\n",
       "      <th></th>\n",
       "      <th></th>\n",
       "      <th></th>\n",
       "      <th></th>\n",
       "    </tr>\n",
       "  </thead>\n",
       "  <tbody>\n",
       "    <tr>\n",
       "      <th>G0470109</th>\n",
       "      <td>0</td>\n",
       "      <td>0</td>\n",
       "      <td>0</td>\n",
       "      <td>0</td>\n",
       "      <td>0</td>\n",
       "      <td>0</td>\n",
       "      <td>0</td>\n",
       "      <td>0</td>\n",
       "      <td>0</td>\n",
       "      <td>0</td>\n",
       "      <td>...</td>\n",
       "      <td>0</td>\n",
       "      <td>0</td>\n",
       "      <td>0</td>\n",
       "      <td>0</td>\n",
       "      <td>0</td>\n",
       "      <td>0</td>\n",
       "      <td>0</td>\n",
       "      <td>0</td>\n",
       "      <td>0</td>\n",
       "      <td>0</td>\n",
       "    </tr>\n",
       "    <tr>\n",
       "      <th>G0470110</th>\n",
       "      <td>0</td>\n",
       "      <td>0</td>\n",
       "      <td>0</td>\n",
       "      <td>0</td>\n",
       "      <td>0</td>\n",
       "      <td>0</td>\n",
       "      <td>0</td>\n",
       "      <td>0</td>\n",
       "      <td>0</td>\n",
       "      <td>0</td>\n",
       "      <td>...</td>\n",
       "      <td>0</td>\n",
       "      <td>0</td>\n",
       "      <td>0</td>\n",
       "      <td>0</td>\n",
       "      <td>0</td>\n",
       "      <td>0</td>\n",
       "      <td>0</td>\n",
       "      <td>0</td>\n",
       "      <td>0</td>\n",
       "      <td>0</td>\n",
       "    </tr>\n",
       "    <tr>\n",
       "      <th>G0470111</th>\n",
       "      <td>0</td>\n",
       "      <td>0</td>\n",
       "      <td>0</td>\n",
       "      <td>0</td>\n",
       "      <td>0</td>\n",
       "      <td>0</td>\n",
       "      <td>0</td>\n",
       "      <td>0</td>\n",
       "      <td>0</td>\n",
       "      <td>0</td>\n",
       "      <td>...</td>\n",
       "      <td>0</td>\n",
       "      <td>0</td>\n",
       "      <td>0</td>\n",
       "      <td>0</td>\n",
       "      <td>0</td>\n",
       "      <td>0</td>\n",
       "      <td>0</td>\n",
       "      <td>0</td>\n",
       "      <td>0</td>\n",
       "      <td>0</td>\n",
       "    </tr>\n",
       "    <tr>\n",
       "      <th>G0470112</th>\n",
       "      <td>0</td>\n",
       "      <td>0</td>\n",
       "      <td>0</td>\n",
       "      <td>0</td>\n",
       "      <td>0</td>\n",
       "      <td>0</td>\n",
       "      <td>0</td>\n",
       "      <td>0</td>\n",
       "      <td>0</td>\n",
       "      <td>0</td>\n",
       "      <td>...</td>\n",
       "      <td>0</td>\n",
       "      <td>0</td>\n",
       "      <td>0</td>\n",
       "      <td>0</td>\n",
       "      <td>0</td>\n",
       "      <td>0</td>\n",
       "      <td>0</td>\n",
       "      <td>0</td>\n",
       "      <td>0</td>\n",
       "      <td>0</td>\n",
       "    </tr>\n",
       "    <tr>\n",
       "      <th>G0470113</th>\n",
       "      <td>0</td>\n",
       "      <td>0</td>\n",
       "      <td>0</td>\n",
       "      <td>0</td>\n",
       "      <td>0</td>\n",
       "      <td>0</td>\n",
       "      <td>0</td>\n",
       "      <td>0</td>\n",
       "      <td>0</td>\n",
       "      <td>0</td>\n",
       "      <td>...</td>\n",
       "      <td>0</td>\n",
       "      <td>0</td>\n",
       "      <td>0</td>\n",
       "      <td>0</td>\n",
       "      <td>0</td>\n",
       "      <td>0</td>\n",
       "      <td>0</td>\n",
       "      <td>0</td>\n",
       "      <td>0</td>\n",
       "      <td>0</td>\n",
       "    </tr>\n",
       "  </tbody>\n",
       "</table>\n",
       "<p>5 rows × 580 columns</p>\n",
       "</div>"
      ],
      "text/plain": [
       "Item_Description  1 AXE TWIST  1+1 BTL4 SEASON WHITE  1+1 GLS 4SEASON RED  \\\n",
       "Bill_Number                                                                 \n",
       "G0470109                    0                      0                    0   \n",
       "G0470110                    0                      0                    0   \n",
       "G0470111                    0                      0                    0   \n",
       "G0470112                    0                      0                    0   \n",
       "G0470113                    0                      0                    0   \n",
       "\n",
       "Item_Description  1+1 GLS 4SEASONS WHITE  1+1 KF 1 LITER  1+1 KF 1/2 LITER  \\\n",
       "Bill_Number                                                                  \n",
       "G0470109                               0               0                 0   \n",
       "G0470110                               0               0                 0   \n",
       "G0470111                               0               0                 0   \n",
       "G0470112                               0               0                 0   \n",
       "G0470113                               0               0                 0   \n",
       "\n",
       "Item_Description  1+1 KF 2 LITER  1+1 VLN CAB SAUV (BTL)  \\\n",
       "Bill_Number                                                \n",
       "G0470109                       0                       0   \n",
       "G0470110                       0                       0   \n",
       "G0470111                       0                       0   \n",
       "G0470112                       0                       0   \n",
       "G0470113                       0                       0   \n",
       "\n",
       "Item_Description  1+1 VLN CAB SAUV (GLS)  1+1 VLN CAB SAUV CLASIQ (BTL)  ...  \\\n",
       "Bill_Number                                                              ...   \n",
       "G0470109                               0                              0  ...   \n",
       "G0470110                               0                              0  ...   \n",
       "G0470111                               0                              0  ...   \n",
       "G0470112                               0                              0  ...   \n",
       "G0470113                               0                              0  ...   \n",
       "\n",
       "Item_Description  WHITE WINE SHEESHA  WILD MUSHROOM LINGUINI  \\\n",
       "Bill_Number                                                    \n",
       "G0470109                           0                       0   \n",
       "G0470110                           0                       0   \n",
       "G0470111                           0                       0   \n",
       "G0470112                           0                       0   \n",
       "G0470113                           0                       0   \n",
       "\n",
       "Item_Description  YEMENI GREAT LAKES (AULAIT)  YEMENI GREAT LAKES (REG)  \\\n",
       "Bill_Number                                                               \n",
       "G0470109                                    0                         0   \n",
       "G0470110                                    0                         0   \n",
       "G0470111                                    0                         0   \n",
       "G0470112                                    0                         0   \n",
       "G0470113                                    0                         0   \n",
       "\n",
       "Item_Description  YIN N YANG FONDUE  ZEN ROCK SQUARE VASE  ZERO SIZE SHOT GLS  \\\n",
       "Bill_Number                                                                     \n",
       "G0470109                          0                     0                   0   \n",
       "G0470110                          0                     0                   0   \n",
       "G0470111                          0                     0                   0   \n",
       "G0470112                          0                     0                   0   \n",
       "G0470113                          0                     0                   0   \n",
       "\n",
       "Item_Description  ZINZI RED (GLS)  ZINZI WHITE  (GLS)  ZINZI WHITE (BTL)  \n",
       "Bill_Number                                                               \n",
       "G0470109                        0                   0                  0  \n",
       "G0470110                        0                   0                  0  \n",
       "G0470111                        0                   0                  0  \n",
       "G0470112                        0                   0                  0  \n",
       "G0470113                        0                   0                  0  \n",
       "\n",
       "[5 rows x 580 columns]"
      ]
     },
     "execution_count": 34,
     "metadata": {},
     "output_type": "execute_result"
    }
   ],
   "source": [
    "def encode_units(x):\n",
    "    if x <= 0:\n",
    "        return 0\n",
    "    if x >= 1:\n",
    "        return 1\n",
    "\n",
    "basket_sets = basket.applymap(encode_units)\n",
    "basket_sets.head()"
   ]
  },
  {
   "cell_type": "code",
   "execution_count": 41,
   "metadata": {},
   "outputs": [
    {
     "data": {
      "text/plain": [
       "145052"
      ]
     },
     "execution_count": 41,
     "metadata": {},
     "output_type": "execute_result"
    }
   ],
   "source": [
    "#\n",
    "\n",
    "tot_item_count = sum(basket_sets.sum())\n",
    "tot_item_count"
   ]
  },
  {
   "cell_type": "code",
   "execution_count": 102,
   "metadata": {},
   "outputs": [],
   "source": [
    "# top 30 \n",
    "\n",
    "item_sum = basket_sets.sum().sort_values(ascending = False).reset_index().head(n=30)\n",
    "item_sum.rename(columns={item_sum.columns[0]:'Item_name',item_sum.columns[1]:'Item_count'}, inplace=True)"
   ]
  },
  {
   "cell_type": "code",
   "execution_count": 103,
   "metadata": {},
   "outputs": [
    {
     "data": {
      "text/html": [
       "<div>\n",
       "<style scoped>\n",
       "    .dataframe tbody tr th:only-of-type {\n",
       "        vertical-align: middle;\n",
       "    }\n",
       "\n",
       "    .dataframe tbody tr th {\n",
       "        vertical-align: top;\n",
       "    }\n",
       "\n",
       "    .dataframe thead th {\n",
       "        text-align: right;\n",
       "    }\n",
       "</style>\n",
       "<table border=\"1\" class=\"dataframe\">\n",
       "  <thead>\n",
       "    <tr style=\"text-align: right;\">\n",
       "      <th></th>\n",
       "      <th>Item_name</th>\n",
       "      <th>Item_count</th>\n",
       "      <th>Item_percent</th>\n",
       "      <th>Tot_percent</th>\n",
       "    </tr>\n",
       "  </thead>\n",
       "  <tbody>\n",
       "    <tr>\n",
       "      <th>0</th>\n",
       "      <td>tot_items</td>\n",
       "      <td>71701</td>\n",
       "      <td>0.494312</td>\n",
       "      <td>0.494312</td>\n",
       "    </tr>\n",
       "    <tr>\n",
       "      <th>1</th>\n",
       "      <td>NIRVANA HOOKAH SINGLE</td>\n",
       "      <td>8389</td>\n",
       "      <td>0.057834</td>\n",
       "      <td>0.552147</td>\n",
       "    </tr>\n",
       "    <tr>\n",
       "      <th>2</th>\n",
       "      <td>MINT FLAVOUR SINGLE</td>\n",
       "      <td>5812</td>\n",
       "      <td>0.040068</td>\n",
       "      <td>0.592215</td>\n",
       "    </tr>\n",
       "    <tr>\n",
       "      <th>3</th>\n",
       "      <td>CAPPUCCINO</td>\n",
       "      <td>5468</td>\n",
       "      <td>0.037697</td>\n",
       "      <td>0.629912</td>\n",
       "    </tr>\n",
       "    <tr>\n",
       "      <th>4</th>\n",
       "      <td>GREAT LAKES SHAKE</td>\n",
       "      <td>4871</td>\n",
       "      <td>0.033581</td>\n",
       "      <td>0.663493</td>\n",
       "    </tr>\n",
       "    <tr>\n",
       "      <th>5</th>\n",
       "      <td>SAMBUCA</td>\n",
       "      <td>4423</td>\n",
       "      <td>0.030493</td>\n",
       "      <td>0.693986</td>\n",
       "    </tr>\n",
       "    <tr>\n",
       "      <th>6</th>\n",
       "      <td>POUTINE WITH FRIES</td>\n",
       "      <td>3414</td>\n",
       "      <td>0.023536</td>\n",
       "      <td>0.717522</td>\n",
       "    </tr>\n",
       "    <tr>\n",
       "      <th>7</th>\n",
       "      <td>QUA  MINERAL WATER(1000ML)</td>\n",
       "      <td>3328</td>\n",
       "      <td>0.022943</td>\n",
       "      <td>0.740465</td>\n",
       "    </tr>\n",
       "    <tr>\n",
       "      <th>8</th>\n",
       "      <td>CALCUTTA MINT</td>\n",
       "      <td>3307</td>\n",
       "      <td>0.022799</td>\n",
       "      <td>0.763264</td>\n",
       "    </tr>\n",
       "    <tr>\n",
       "      <th>9</th>\n",
       "      <td>JR.CHL AVALANCHE</td>\n",
       "      <td>3307</td>\n",
       "      <td>0.022799</td>\n",
       "      <td>0.786063</td>\n",
       "    </tr>\n",
       "    <tr>\n",
       "      <th>10</th>\n",
       "      <td>B.M.T. PANINI</td>\n",
       "      <td>2605</td>\n",
       "      <td>0.017959</td>\n",
       "      <td>0.804022</td>\n",
       "    </tr>\n",
       "    <tr>\n",
       "      <th>11</th>\n",
       "      <td>GREEN APPLE FLAVOUR SINGLE</td>\n",
       "      <td>2528</td>\n",
       "      <td>0.017428</td>\n",
       "      <td>0.821450</td>\n",
       "    </tr>\n",
       "    <tr>\n",
       "      <th>12</th>\n",
       "      <td>MOROCCAN MINT TEA</td>\n",
       "      <td>2256</td>\n",
       "      <td>0.015553</td>\n",
       "      <td>0.837003</td>\n",
       "    </tr>\n",
       "    <tr>\n",
       "      <th>13</th>\n",
       "      <td>N R G  HOOKAH</td>\n",
       "      <td>2235</td>\n",
       "      <td>0.015408</td>\n",
       "      <td>0.852412</td>\n",
       "    </tr>\n",
       "    <tr>\n",
       "      <th>14</th>\n",
       "      <td>MASALA CHAI CUTTING</td>\n",
       "      <td>2234</td>\n",
       "      <td>0.015401</td>\n",
       "      <td>0.867813</td>\n",
       "    </tr>\n",
       "    <tr>\n",
       "      <th>15</th>\n",
       "      <td>LEMON ICED TEA</td>\n",
       "      <td>2193</td>\n",
       "      <td>0.015119</td>\n",
       "      <td>0.882932</td>\n",
       "    </tr>\n",
       "    <tr>\n",
       "      <th>16</th>\n",
       "      <td>CAFFE LATTE</td>\n",
       "      <td>2095</td>\n",
       "      <td>0.014443</td>\n",
       "      <td>0.897375</td>\n",
       "    </tr>\n",
       "    <tr>\n",
       "      <th>17</th>\n",
       "      <td>BERRY BLAST</td>\n",
       "      <td>2031</td>\n",
       "      <td>0.014002</td>\n",
       "      <td>0.911377</td>\n",
       "    </tr>\n",
       "    <tr>\n",
       "      <th>18</th>\n",
       "      <td>OREO COOKIE SHAKE</td>\n",
       "      <td>1989</td>\n",
       "      <td>0.013712</td>\n",
       "      <td>0.925089</td>\n",
       "    </tr>\n",
       "    <tr>\n",
       "      <th>19</th>\n",
       "      <td>SILVER APPLE SINGLE</td>\n",
       "      <td>1971</td>\n",
       "      <td>0.013588</td>\n",
       "      <td>0.938677</td>\n",
       "    </tr>\n",
       "    <tr>\n",
       "      <th>20</th>\n",
       "      <td>PHILLYCREAM CHEESE &amp;CHILLY PAN</td>\n",
       "      <td>1860</td>\n",
       "      <td>0.012823</td>\n",
       "      <td>0.951500</td>\n",
       "    </tr>\n",
       "    <tr>\n",
       "      <th>21</th>\n",
       "      <td>RED BULL ENERGY DRINK</td>\n",
       "      <td>1860</td>\n",
       "      <td>0.012823</td>\n",
       "      <td>0.964323</td>\n",
       "    </tr>\n",
       "    <tr>\n",
       "      <th>22</th>\n",
       "      <td>COUNTRY LEMONADE</td>\n",
       "      <td>1809</td>\n",
       "      <td>0.012471</td>\n",
       "      <td>0.976795</td>\n",
       "    </tr>\n",
       "    <tr>\n",
       "      <th>23</th>\n",
       "      <td>CARLSBERG</td>\n",
       "      <td>1716</td>\n",
       "      <td>0.011830</td>\n",
       "      <td>0.988625</td>\n",
       "    </tr>\n",
       "    <tr>\n",
       "      <th>24</th>\n",
       "      <td>KIT KAT SHAKE</td>\n",
       "      <td>1679</td>\n",
       "      <td>0.011575</td>\n",
       "      <td>1.000200</td>\n",
       "    </tr>\n",
       "    <tr>\n",
       "      <th>25</th>\n",
       "      <td>COTTAGE CHEESE PANINI</td>\n",
       "      <td>1612</td>\n",
       "      <td>0.011113</td>\n",
       "      <td>1.011313</td>\n",
       "    </tr>\n",
       "    <tr>\n",
       "      <th>26</th>\n",
       "      <td>TUBORG</td>\n",
       "      <td>1472</td>\n",
       "      <td>0.010148</td>\n",
       "      <td>1.021461</td>\n",
       "    </tr>\n",
       "    <tr>\n",
       "      <th>27</th>\n",
       "      <td>PINK LEMONADE</td>\n",
       "      <td>1415</td>\n",
       "      <td>0.009755</td>\n",
       "      <td>1.031216</td>\n",
       "    </tr>\n",
       "    <tr>\n",
       "      <th>28</th>\n",
       "      <td>COUNTRY ROAST CHICKEN PANINI</td>\n",
       "      <td>1322</td>\n",
       "      <td>0.009114</td>\n",
       "      <td>1.040330</td>\n",
       "    </tr>\n",
       "    <tr>\n",
       "      <th>29</th>\n",
       "      <td>MAGGI NDLCREAM/ CHEE/GARLIC</td>\n",
       "      <td>1274</td>\n",
       "      <td>0.008783</td>\n",
       "      <td>1.049113</td>\n",
       "    </tr>\n",
       "  </tbody>\n",
       "</table>\n",
       "</div>"
      ],
      "text/plain": [
       "                         Item_name  Item_count  Item_percent  Tot_percent\n",
       "0                        tot_items       71701      0.494312     0.494312\n",
       "1            NIRVANA HOOKAH SINGLE        8389      0.057834     0.552147\n",
       "2              MINT FLAVOUR SINGLE        5812      0.040068     0.592215\n",
       "3                       CAPPUCCINO        5468      0.037697     0.629912\n",
       "4                GREAT LAKES SHAKE        4871      0.033581     0.663493\n",
       "5                          SAMBUCA        4423      0.030493     0.693986\n",
       "6               POUTINE WITH FRIES        3414      0.023536     0.717522\n",
       "7       QUA  MINERAL WATER(1000ML)        3328      0.022943     0.740465\n",
       "8                    CALCUTTA MINT        3307      0.022799     0.763264\n",
       "9                 JR.CHL AVALANCHE        3307      0.022799     0.786063\n",
       "10                   B.M.T. PANINI        2605      0.017959     0.804022\n",
       "11      GREEN APPLE FLAVOUR SINGLE        2528      0.017428     0.821450\n",
       "12               MOROCCAN MINT TEA        2256      0.015553     0.837003\n",
       "13                   N R G  HOOKAH        2235      0.015408     0.852412\n",
       "14             MASALA CHAI CUTTING        2234      0.015401     0.867813\n",
       "15                  LEMON ICED TEA        2193      0.015119     0.882932\n",
       "16                     CAFFE LATTE        2095      0.014443     0.897375\n",
       "17                     BERRY BLAST        2031      0.014002     0.911377\n",
       "18               OREO COOKIE SHAKE        1989      0.013712     0.925089\n",
       "19             SILVER APPLE SINGLE        1971      0.013588     0.938677\n",
       "20  PHILLYCREAM CHEESE &CHILLY PAN        1860      0.012823     0.951500\n",
       "21           RED BULL ENERGY DRINK        1860      0.012823     0.964323\n",
       "22                COUNTRY LEMONADE        1809      0.012471     0.976795\n",
       "23                       CARLSBERG        1716      0.011830     0.988625\n",
       "24                   KIT KAT SHAKE        1679      0.011575     1.000200\n",
       "25           COTTAGE CHEESE PANINI        1612      0.011113     1.011313\n",
       "26                          TUBORG        1472      0.010148     1.021461\n",
       "27                   PINK LEMONADE        1415      0.009755     1.031216\n",
       "28    COUNTRY ROAST CHICKEN PANINI        1322      0.009114     1.040330\n",
       "29     MAGGI NDLCREAM/ CHEE/GARLIC        1274      0.008783     1.049113"
      ]
     },
     "execution_count": 103,
     "metadata": {},
     "output_type": "execute_result"
    }
   ],
   "source": [
    "#\n",
    "\n",
    "item_sum['Item_percent'] = item_sum['Item_count']/tot_item_count\n",
    "item_sum['Tot_percent'] = item_sum.Item_percent.cumsum()\n",
    "item_sum.head(30) # List of top 30 items with percents"
   ]
  },
  {
   "cell_type": "code",
   "execution_count": 104,
   "metadata": {},
   "outputs": [
    {
     "data": {
      "text/plain": [
       "Text(0.5, 1.0, 'Item sales distribution')"
      ]
     },
     "execution_count": 104,
     "metadata": {},
     "output_type": "execute_result"
    },
    {
     "data": {
      "image/png": "[encoded data removed]",
      "text/plain": [
       "<Figure size 432x288 with 1 Axes>"
      ]
     },
     "metadata": {
      "needs_background": "light"
     },
     "output_type": "display_data"
    }
   ],
   "source": [
    "#\n",
    "\n",
    "obj = (list(item_sum['Item_name'].head(n=30)))\n",
    "y_pos = np.arange(len(obj))\n",
    "performance = list(item_sum['Item_count'].head(n=30))\n",
    "\n",
    "plt.bar(y_pos, performance, align='center', alpha=0.5)\n",
    "plt.xticks(y_pos, obj, rotation='vertical')\n",
    "plt.ylabel('Item count')\n",
    "plt.title('Item sales distribution')"
   ]
  },
  {
   "cell_type": "code",
   "execution_count": 105,
   "metadata": {},
   "outputs": [],
   "source": [
    "#\n",
    "\n",
    "def prune_dataset(olddf, len_transaction, tot_sales_percent):\n",
    "    # Delete the last column tot_items if present\n",
    "    if 'tot_items' in olddf.columns:\n",
    "        del(olddf['tot_items'])\n",
    "    #Finding the item_count for each item and total number of items.\n",
    "    #This is the same code as in step 3    \n",
    "    Item_count = olddf.sum().sort_values(ascending = False).reset_index()\n",
    "    tot_items = sum(olddf.sum().sort_values(ascending = False))\n",
    "    Item_count.rename(columns={Item_count.columns[0]:'Item_name',Item_count.columns[1]:'Item_count'}, inplace=True)\n",
    "    \n",
    "    # Code from Step 3 to find Item Percentage and Total Percentage.\n",
    "    Item_count['Item_percent'] = Item_count['Item_count']/tot_items\n",
    "    Item_count['Tot_percent'] = Item_count.Item_percent.cumsum()\n",
    "    \n",
    "    # Taking items that fit the condition/ minimum threshold for total sales percentage.\n",
    "    selected_items = list(Item_count[Item_count.Tot_percent < tot_sales_percent].Item_name)\n",
    "    olddf['tot_items'] = olddf[selected_items].sum(axis = 1)\n",
    "    \n",
    "    # Taking items that fit the condition/ minimum threshold for length of transaction or number of items in a row.\n",
    "    olddf = olddf[olddf.tot_items >= len_transaction]\n",
    "    del(olddf['tot_items'])\n",
    "    \n",
    "    #Return pruned dataframe.\n",
    "    return olddf[selected_items], Item_count[Item_count.Tot_percent < tot_sales_percent]"
   ]
  },
  {
   "cell_type": "code",
   "execution_count": 106,
   "metadata": {},
   "outputs": [
    {
     "name": "stdout",
     "output_type": "stream",
     "text": [
      "(401, 15)\n",
      "['NIRVANA HOOKAH SINGLE', 'MINT FLAVOUR SINGLE', 'CAPPUCCINO', 'GREAT LAKES SHAKE', 'SAMBUCA', 'POUTINE WITH FRIES', 'QUA  MINERAL WATER(1000ML)', 'JR.CHL AVALANCHE', 'CALCUTTA MINT', 'B.M.T. PANINI', 'GREEN APPLE FLAVOUR SINGLE', 'MOROCCAN MINT TEA', 'N R G  HOOKAH', 'MASALA CHAI CUTTING', 'LEMON ICED TEA']\n"
     ]
    }
   ],
   "source": [
    "# Pruned dataframe 1\n",
    "\n",
    "pruneddf, Item_count = prune_dataset(basket_sets,4,0.4)\n",
    "print(pruneddf.shape)\n",
    "print(list(pruneddf.columns))"
   ]
  },
  {
   "cell_type": "code",
   "execution_count": 107,
   "metadata": {},
   "outputs": [
    {
     "name": "stdout",
     "output_type": "stream",
     "text": [
      "(986, 23)\n",
      "['NIRVANA HOOKAH SINGLE', 'MINT FLAVOUR SINGLE', 'CAPPUCCINO', 'GREAT LAKES SHAKE', 'SAMBUCA', 'POUTINE WITH FRIES', 'QUA  MINERAL WATER(1000ML)', 'JR.CHL AVALANCHE', 'CALCUTTA MINT', 'B.M.T. PANINI', 'GREEN APPLE FLAVOUR SINGLE', 'MOROCCAN MINT TEA', 'N R G  HOOKAH', 'MASALA CHAI CUTTING', 'LEMON ICED TEA', 'CAFFE LATTE', 'BERRY BLAST', 'OREO COOKIE SHAKE', 'SILVER APPLE SINGLE', 'PHILLYCREAM CHEESE &CHILLY PAN', 'RED BULL ENERGY DRINK', 'COUNTRY LEMONADE', 'CARLSBERG']\n"
     ]
    }
   ],
   "source": [
    "# Pruned dataframe 2\n",
    "\n",
    "pruneddf, Item_count = prune_dataset(basket_sets,4,0.5)\n",
    "print(pruneddf.shape)\n",
    "print(list(pruneddf.columns))"
   ]
  },
  {
   "cell_type": "code",
   "execution_count": 108,
   "metadata": {},
   "outputs": [
    {
     "name": "stdout",
     "output_type": "stream",
     "text": [
      "(15932, 23)\n",
      "['NIRVANA HOOKAH SINGLE', 'MINT FLAVOUR SINGLE', 'CAPPUCCINO', 'GREAT LAKES SHAKE', 'SAMBUCA', 'POUTINE WITH FRIES', 'QUA  MINERAL WATER(1000ML)', 'JR.CHL AVALANCHE', 'CALCUTTA MINT', 'B.M.T. PANINI', 'GREEN APPLE FLAVOUR SINGLE', 'MOROCCAN MINT TEA', 'N R G  HOOKAH', 'MASALA CHAI CUTTING', 'LEMON ICED TEA', 'CAFFE LATTE', 'BERRY BLAST', 'OREO COOKIE SHAKE', 'SILVER APPLE SINGLE', 'PHILLYCREAM CHEESE &CHILLY PAN', 'RED BULL ENERGY DRINK', 'COUNTRY LEMONADE', 'CARLSBERG']\n"
     ]
    }
   ],
   "source": [
    "# Pruned dataframe 3\n",
    "\n",
    "pruneddf, Item_count = prune_dataset(basket_sets,2,0.5)\n",
    "print(pruneddf.shape)\n",
    "print(list(pruneddf.columns))"
   ]
  },
  {
   "cell_type": "code",
   "execution_count": 109,
   "metadata": {},
   "outputs": [],
   "source": [
    "# Pruned data csv\n",
    "\n",
    "# Converting 1's to appropriate item name(column name)\n",
    "y = list(pruneddf.columns)\n",
    "for s in y:\n",
    "    pruneddf.loc[(pruneddf[s] == 1),s]=s\n",
    "#Removing Zero's\n",
    "lol = pruneddf.values.tolist() \n",
    "for a in lol:\n",
    "    while (0 in a):\n",
    "        a.remove(0)\n",
    "#Making a new pruned dataset csv file\n",
    "with open(\"pruned.csv\", \"w\", newline=\"\") as f:\n",
    "    writer = csv.writer(f)\n",
    "    writer.writerows(lol)"
   ]
  },
  {
   "cell_type": "code",
   "execution_count": 110,
   "metadata": {},
   "outputs": [],
   "source": [
    "# We have a clean and organized csv file on which we can apply Apriori Code"
   ]
  },
  {
   "cell_type": "code",
   "execution_count": 113,
   "metadata": {},
   "outputs": [
    {
     "name": "stdout",
     "output_type": "stream",
     "text": [
      "[(3154, 'NIRVANA HOOKAH SINGLE'), (2748, 'GREAT LAKES SHAKE'), (2698, 'CAPPUCCINO'), (2481, 'POUTINE WITH FRIES'), (2337, 'QUA  MINERAL WATER(1000ML)'), (2231, 'SAMBUCA'), (2024, 'B.M.T. PANINI'), (1716, 'MINT FLAVOUR SINGLE'), (1684, 'JR.CHL AVALANCHE'), (1611, 'CALCUTTA MINT'), (1408, 'LEMON ICED TEA'), (1391, 'RED BULL ENERGY DRINK'), (1377, 'MOROCCAN MINT TEA'), (1331, 'MASALA CHAI CUTTING'), (1323, 'PHILLYCREAM CHEESE &CHILLY PAN'), (1240, 'BERRY BLAST'), (1198, 'COUNTRY LEMONADE'), (1150, 'OREO COOKIE SHAKE'), (1114, 'N R G  HOOKAH'), (1075, 'GREEN APPLE FLAVOUR SINGLE')]\n",
      "<class 'pandas.core.frame.DataFrame'>\n",
      "RangeIndex: 20 entries, 0 to 19\n",
      "Data columns (total 2 columns):\n",
      " #   Column  Non-Null Count  Dtype \n",
      "---  ------  --------------  ----- \n",
      " 0   Count   20 non-null     int64 \n",
      " 1   Word    20 non-null     object\n",
      "dtypes: int64(1), object(1)\n",
      "memory usage: 448.0+ bytes\n",
      "None\n",
      "C2:  [('NIRVANA HOOKAH SINGLE', 'SAMBUCA'), ('NIRVANA HOOKAH SINGLE', 'POUTINE WITH FRIES')]\n",
      "length :  231\n",
      "\n",
      "Ct Length :  231\n",
      "\n",
      "L Length :  12\n",
      "\n",
      "[(443, ('NIRVANA HOOKAH SINGLE', 'POUTINE WITH FRIES')), (419, ('CAPPUCCINO', 'MINT FLAVOUR SINGLE')), (388, ('CAPPUCCINO', 'GREAT LAKES SHAKE')), (383, ('NIRVANA HOOKAH SINGLE', 'QUA  MINERAL WATER(1000ML)')), (359, ('GREAT LAKES SHAKE', 'NIRVANA HOOKAH SINGLE')), (342, ('NIRVANA HOOKAH SINGLE', 'RED BULL ENERGY DRINK')), (328, ('QUA  MINERAL WATER(1000ML)', 'SAMBUCA')), (328, ('B.M.T. PANINI', 'SAMBUCA')), (322, ('B.M.T. PANINI', 'NIRVANA HOOKAH SINGLE')), (318, ('GREAT LAKES SHAKE', 'SAMBUCA')), (314, ('POUTINE WITH FRIES', 'SAMBUCA')), (297, ('CAFFE LATTE', 'CAPPUCCINO'))]\n",
      "<class 'pandas.core.frame.DataFrame'>\n",
      "RangeIndex: 12 entries, 0 to 11\n",
      "Data columns (total 2 columns):\n",
      " #   Column  Non-Null Count  Dtype \n",
      "---  ------  --------------  ----- \n",
      " 0   Count   12 non-null     int64 \n",
      " 1   Word    12 non-null     object\n",
      "dtypes: int64(1), object(1)\n",
      "memory usage: 320.0+ bytes\n",
      "None\n",
      "C3:  [('GREAT LAKES SHAKE', 'NIRVANA HOOKAH SINGLE', 'SAMBUCA'), ('NIRVANA HOOKAH SINGLE', 'POUTINE WITH FRIES', 'RED BULL ENERGY DRINK')]\n",
      "Length :  12\n",
      "\n",
      "Ct Length :  6\n",
      "\n",
      "L Length :  0\n",
      "\n",
      "['CAPPUCCINO'] -> ['MINT FLAVOUR SINGLE'] (0.1553002223869533)\n",
      "['MINT FLAVOUR SINGLE'] -> ['CAPPUCCINO'] (0.24417249417249418)\n",
      "['GREAT LAKES SHAKE'] -> ['SAMBUCA'] (0.11572052401746726)\n",
      "['SAMBUCA'] -> ['GREAT LAKES SHAKE'] (0.1425369789332138)\n",
      "['CAFFE LATTE'] -> ['CAPPUCCINO'] (0.2778297474275023)\n",
      "['CAPPUCCINO'] -> ['CAFFE LATTE'] (0.11008154188287621)\n",
      "['NIRVANA HOOKAH SINGLE'] -> ['RED BULL ENERGY DRINK'] (0.10843373493975904)\n",
      "['RED BULL ENERGY DRINK'] -> ['NIRVANA HOOKAH SINGLE'] (0.24586628324946083)\n",
      "['CAPPUCCINO'] -> ['GREAT LAKES SHAKE'] (0.14381022979985175)\n",
      "['GREAT LAKES SHAKE'] -> ['CAPPUCCINO'] (0.14119359534206696)\n",
      "['B.M.T. PANINI'] -> ['NIRVANA HOOKAH SINGLE'] (0.1590909090909091)\n",
      "['NIRVANA HOOKAH SINGLE'] -> ['B.M.T. PANINI'] (0.10209258084971465)\n",
      "['NIRVANA HOOKAH SINGLE'] -> ['POUTINE WITH FRIES'] (0.1404565630944832)\n",
      "['POUTINE WITH FRIES'] -> ['NIRVANA HOOKAH SINGLE'] (0.1785570334542523)\n",
      "['QUA  MINERAL WATER(1000ML)'] -> ['SAMBUCA'] (0.14035087719298245)\n",
      "['SAMBUCA'] -> ['QUA  MINERAL WATER(1000ML)'] (0.14701927386822053)\n",
      "['GREAT LAKES SHAKE'] -> ['NIRVANA HOOKAH SINGLE'] (0.1306404657933042)\n",
      "['NIRVANA HOOKAH SINGLE'] -> ['GREAT LAKES SHAKE'] (0.11382371591629677)\n",
      "['NIRVANA HOOKAH SINGLE'] -> ['QUA  MINERAL WATER(1000ML)'] (0.12143310082435003)\n",
      "['QUA  MINERAL WATER(1000ML)'] -> ['NIRVANA HOOKAH SINGLE'] (0.16388532306375694)\n",
      "['POUTINE WITH FRIES'] -> ['SAMBUCA'] (0.12656187021362353)\n",
      "['SAMBUCA'] -> ['POUTINE WITH FRIES'] (0.1407440609592111)\n",
      "['B.M.T. PANINI'] -> ['SAMBUCA'] (0.16205533596837945)\n",
      "['SAMBUCA'] -> ['B.M.T. PANINI'] (0.14701927386822053)\n",
      "24 rules generated\n"
     ]
    },
    {
     "data": {
      "image/png": "[encoded data removed]",
      "text/plain": [
       "<Figure size 432x288 with 1 Axes>"
      ]
     },
     "metadata": {
      "needs_background": "light"
     },
     "output_type": "display_data"
    },
    {
     "data": {
      "image/png": "[encoded data removed]",
      "text/plain": [
       "<Figure size 432x288 with 1 Axes>"
      ]
     },
     "metadata": {
      "needs_background": "light"
     },
     "output_type": "display_data"
    }
   ],
   "source": [
    "# This code is for applying apriori to pruned data section\n",
    "import csv\n",
    "import itertools\n",
    "#Delete Files prunedRules and PrunedFItems otherwise new data will be appended.\n",
    "Groceries = open('pruned.csv', 'r')\n",
    "#Minimum Support Count\n",
    "min_support = 0.03\n",
    "Rules = \"prunedRules.txt\"\n",
    "freqItemsets = \"prunedFItems.txt\"\n",
    "#Mininum Confidence\n",
    "min_confidence = 0.0001\n",
    "\n",
    "# Finding all Frequent 1-Item sets\n",
    "def OneItemSets():\n",
    "    #Get all 1-itemsets in the list items and their counts in the dictionary counts\n",
    "    DataCaptured = csv.reader(Groceries, delimiter=',')\n",
    "    data = list(DataCaptured)\n",
    "    for e in data:\n",
    "        e = sorted(e)\n",
    "    count = {}\n",
    "    for items in data:\n",
    "        for item in items:\n",
    "            if item not in count:\n",
    "                count[(item)] = 1\n",
    "            else:\n",
    "                count[(item)] = count[(item)] + 1\n",
    "\n",
    "    count2 = {k: v for k, v in count.items() if v >= min_support*9835}\n",
    "\n",
    "    return count2, data\n",
    "\n",
    "#Ck is a superset of Lk. It is a part of Prune Step. its members may or may not be frequent, but all of the frequent k-itemsets are included in Ck.\n",
    "# Generated by joing two Lk\n",
    "def generateCk(Lk_1, flag, data):\n",
    "    Ck = []\n",
    "    if flag == 1:\n",
    "        flag = 0\n",
    "        for item1 in Lk_1:\n",
    "            for item2 in Lk_1:\n",
    "                if item2 > item1:\n",
    "                    Ck.append((item1, item2))\n",
    "        print(\"C2: \", Ck[1:3])\n",
    "        print(\"length : \", len(Ck))\n",
    "        print()\n",
    "\n",
    "    else:\n",
    "        for item in Lk_1:\n",
    "            k = len(item)\n",
    "        for item1 in Lk_1:\n",
    "            for item2 in Lk_1:\n",
    "                if (item1[:-1] == item2[:-1]) and (item1[-1] != item2[-1]):\n",
    "                    if item1[-1] > item2[-1]:\n",
    "                        Ck.append(item2 + (item1[-1],))\n",
    "                    else:\n",
    "                        Ck.append(item1 + (item2[-1],))\n",
    "        print(\"C\" + str(k+1) + \": \", Ck[1:3])\n",
    "        print(\"Length : \", len(Ck))\n",
    "        print()\n",
    "    L = generateLk(set(Ck), data)\n",
    "    return L, flag\n",
    "\n",
    "#If item in Ck belongs to a transaction, it makes it into list Ct Then Ct is thresholded to form L\n",
    "# For K frequent Itemsets\n",
    "def generateLk(Ck, data):\n",
    "    \n",
    "    count = {}\n",
    "    for itemset in Ck:\n",
    "        #print(itemset)\n",
    "        for transaction in data:\n",
    "            if all(e in transaction for e in itemset):\n",
    "                if itemset not in count:\n",
    "                    count[itemset] = 1\n",
    "                else:\n",
    "                    count[itemset] = count[itemset] + 1\n",
    "\n",
    "    print(\"Ct Length : \", len(count))\n",
    "    print()\n",
    "\n",
    "    count2 = {k: v for k, v in count.items() if v >= min_support*9835}\n",
    "    print(\"L Length : \", len(count2))\n",
    "    print()\n",
    "    return count2\n",
    "\n",
    "#  Generates association rules from the frequent itemsets\n",
    "def rulegenerator(fitems):\n",
    "    counter = 0\n",
    "    for itemset in fitems.keys():\n",
    "        if isinstance(itemset, str):\n",
    "            continue\n",
    "        length = len(itemset)\n",
    "\n",
    "        union_support = fitems[tuple(itemset)]\n",
    "        for i in range(1, length):\n",
    "\n",
    "            lefts = map(list, itertools.combinations(itemset, i))\n",
    "            for left in lefts:\n",
    "                if len(left) == 1:\n",
    "                    if ''.join(left) in fitems:\n",
    "                        leftcount = fitems[''.join(left)]\n",
    "                        conf = union_support / leftcount\n",
    "                else:\n",
    "                    if tuple(left) in fitems:\n",
    "                        leftcount = fitems[tuple(left)]\n",
    "                        conf = union_support / leftcount\n",
    "                if conf >= min_confidence:\n",
    "                    fo = open(Rules, \"a+\")\n",
    "                    right = list(itemset[:])\n",
    "                    for e in left:\n",
    "                        right.remove(e)\n",
    "                    fo.write(str(left) + ' (' + str(leftcount) + ')' + ' -> ' + str(right) + ' (' + str(fitems[''.join(right)]) + ')' + ' [' + str(conf) + ']' + '\\n')\n",
    "                    print(str(left) + ' -> ' + str(right) + ' (' + str(conf) + ')')\n",
    "                    counter = counter + 1\n",
    "                    #Greater than 1???\n",
    "                    fo.close()\n",
    "    print(counter, \"rules generated\")\n",
    "def plotitemfreq(L):\n",
    "    aux = [(L[key], key) for key in L]\n",
    "    aux.sort()\n",
    "    aux.reverse()\n",
    "    z = aux[0:20]\n",
    "    print(z)\n",
    "    df = pd.DataFrame(z, columns = ['Count', 'Word'])\n",
    "    df['Count']=pd.to_numeric(df['Count'])\n",
    "    print(df.info())\n",
    "    df.plot.bar(x='Word', y='Count')\n",
    "\n",
    "def apriori():\n",
    "    L, data = OneItemSets()\n",
    "    flag = 1\n",
    "    FreqItems = dict(L)\n",
    "    while(len(L) != 0):\n",
    "        fo = open(freqItemsets, \"a+\")\n",
    "        for k, v in L.items():\n",
    "           \n",
    "            fo.write(str(k) + ' >>> ' + str(v) + '\\n\\n')\n",
    "        fo.close()\n",
    "        plotitemfreq(L)\n",
    "\n",
    "        L, flag = generateCk(L, flag, data)\n",
    "        FreqItems.update(L)\n",
    "    rulegenerator(FreqItems)\n",
    "\n",
    "\n",
    "if __name__ == '__main__':\n",
    "    apriori()"
   ]
  },
  {
   "cell_type": "code",
   "execution_count": null,
   "metadata": {},
   "outputs": [],
   "source": []
  },
  {
   "cell_type": "code",
   "execution_count": null,
   "metadata": {},
   "outputs": [],
   "source": []
  },
  {
   "cell_type": "code",
   "execution_count": null,
   "metadata": {},
   "outputs": [],
   "source": []
  },
  {
   "cell_type": "code",
   "execution_count": null,
   "metadata": {},
   "outputs": [],
   "source": []
  },
  {
   "cell_type": "code",
   "execution_count": null,
   "metadata": {},
   "outputs": [],
   "source": []
  },
  {
   "cell_type": "code",
   "execution_count": null,
   "metadata": {},
   "outputs": [],
   "source": []
  },
  {
   "cell_type": "code",
   "execution_count": null,
   "metadata": {},
   "outputs": [],
   "source": []
  },
  {
   "cell_type": "code",
   "execution_count": null,
   "metadata": {},
   "outputs": [],
   "source": []
  },
  {
   "cell_type": "code",
   "execution_count": null,
   "metadata": {},
   "outputs": [],
   "source": []
  }
 ],
 "metadata": {
  "kernelspec": {
   "display_name": "Python 3",
   "language": "python",
   "name": "python3"
  },
  "language_info": {
   "codemirror_mode": {
    "name": "ipython",
    "version": 3
   },
   "file_extension": ".py",
   "mimetype": "text/x-python",
   "name": "python",
   "nbconvert_exporter": "python",
   "pygments_lexer": "ipython3",
   "version": "3.8.3"
  }
 },
 "nbformat": 4,
 "nbformat_minor": 4
}
